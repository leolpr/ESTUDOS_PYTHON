{
 "cells": [
  {
   "cell_type": "markdown",
   "id": "a69d2f4b",
   "metadata": {},
   "source": [
    "# Importing the data and libraries"
   ]
  },
  {
   "cell_type": "code",
   "execution_count": 126,
   "id": "035d46d6",
   "metadata": {},
   "outputs": [],
   "source": [
    "#importing useful libraries\n",
    "import pandas as pd\n",
    "import numpy as np\n",
    "import matplotlib.pyplot as plt\n",
    "from datetime import datetime\n",
    "from sklearn.linear_model import LinearRegression"
   ]
  },
  {
   "cell_type": "code",
   "execution_count": 4,
   "id": "09ede2b3",
   "metadata": {},
   "outputs": [],
   "source": [
    "#importing the csv arquives\n",
    "precos = pd.read_csv(\"precos.csv\", sep = \";\")\n",
    "pesos = pd.read_csv(\"pesos.csv\", sep = \";\")"
   ]
  },
  {
   "cell_type": "markdown",
   "id": "11335a29",
   "metadata": {},
   "source": [
    "# Question 2A"
   ]
  },
  {
   "cell_type": "code",
   "execution_count": 5,
   "id": "4e1bc88e",
   "metadata": {},
   "outputs": [],
   "source": [
    "#Filling empty values (NA) with the last value of the series before the NA value.\n",
    "precos.fillna(method=\"ffill\", inplace = True)\n",
    "pesos.fillna(method=\"ffill\", inplace = True)"
   ]
  },
  {
   "cell_type": "code",
   "execution_count": 33,
   "id": "c1aa9a08",
   "metadata": {},
   "outputs": [],
   "source": [
    "# Dropping useless columns and storing in the new dataframe \"precos2\"\n",
    "precos2 = precos.drop(precos.columns[14:], axis = 1)\n",
    "\n",
    "# Dropping useless columns and storing in the new dataframe \"precos2\"\n",
    "precos2 = precos2.drop(precos.columns[:1], axis = 1)\n",
    "\n",
    "\n",
    "#setting the date as the index of the dataframe\n",
    "precos2.set_index(precos['date'], inplace = True)\n",
    "\n",
    "# Convert historical stock prices to daily percent change\n",
    "price_change = precos2.pct_change(1)\n",
    "\n",
    "# Deletes row one containing the NaN and stores it in the DataFrame \"df\"\n",
    "df = price_change.drop(price_change.index[0])"
   ]
  },
  {
   "cell_type": "code",
   "execution_count": 76,
   "id": "5956c43d",
   "metadata": {},
   "outputs": [],
   "source": [
    "# this function prints the beta for two variables using linear regression\n",
    "\n",
    "def regression_model(x, y):\n",
    "    x1 = np.array(x).reshape((-1,1))\n",
    "    y1 = np.array(y)\n",
    "    model = LinearRegression().fit(x1, y1)\n",
    "    return model.coef_"
   ]
  },
  {
   "cell_type": "code",
   "execution_count": 79,
   "id": "63e3862e",
   "metadata": {},
   "outputs": [
    {
     "name": "stdout",
     "output_type": "stream",
     "text": [
      "The Beta of AAAA3 and the benchmark is [1.348806]\n",
      "The Beta of BBBB3 and the benchmark is [1.38961938]\n",
      "The Beta of CCCC4 and the benchmark is [0.93501354]\n",
      "The Beta of DDDD3 and the benchmark is [0.75744315]\n",
      "The Beta of EEEE3 and the benchmark is [0.68156847]\n",
      "The Beta of FFFF3 and the benchmark is [0.87394279]\n",
      "The Beta of GGGG3 and the benchmark is [0.89583935]\n",
      "The Beta of ZZZZ3 and the benchmark is [0.87428725]\n",
      "The Beta of YYYY3 and the benchmark is [0.94811451]\n",
      "The Beta of WWWW3 and the benchmark is [0.97420797]\n",
      "The Beta of HHHH3 and the benchmark is [0.14753134]\n",
      "Duration: 0:00:00.007977\n"
     ]
    }
   ],
   "source": [
    "# iteration\n",
    "start_time = datetime.now()\n",
    "for i in df.columns[:11]:\n",
    "    tt = regression_model(df[\"Benchmark Mercado\"], df[i])\n",
    "    print(\"The Beta of {0} and the benchmark is {1}\".format(i,tt))\n",
    "    \n",
    "end_time = datetime.now()\n",
    "print('Duration: {}'.format(end_time - start_time))"
   ]
  },
  {
   "cell_type": "markdown",
   "id": "e14f5dcc",
   "metadata": {},
   "source": [
    "# Question 2B"
   ]
  },
  {
   "cell_type": "markdown",
   "id": "10ba191e",
   "metadata": {},
   "source": [
    "The linear regression is a way to obserse how two variables stands together in a line in a certain period of time, how they variate with each other. A beta of 1.348806 means that the asset AAAA3 is 34.8806% more volatile than the benchmark. Another way of looking at this is that with 1% variance in the benchmark, the AAAA3 asset will vary 1.348806% on average."
   ]
  },
  {
   "cell_type": "markdown",
   "id": "fc73c3cc",
   "metadata": {},
   "source": [
    "# Question 2C"
   ]
  },
  {
   "cell_type": "code",
   "execution_count": 115,
   "id": "0acdcc13",
   "metadata": {},
   "outputs": [],
   "source": [
    "def beta(x,y):\n",
    "    covariance = sum((x - x.mean())*((y- y.mean())))/(len(x)-1)\n",
    "    variance_x = sum((x - x.mean())**2)/(len(x)-1)\n",
    "    \n",
    "    return(covariance/variance_x)"
   ]
  },
  {
   "cell_type": "code",
   "execution_count": 117,
   "id": "958e9c65",
   "metadata": {},
   "outputs": [
    {
     "name": "stdout",
     "output_type": "stream",
     "text": [
      "The Beta of AAAA3 and the benchmark is 1.348806003518077\n",
      "The Beta of BBBB3 and the benchmark is 1.3896193797436778\n",
      "The Beta of CCCC4 and the benchmark is 0.935013542314543\n",
      "The Beta of DDDD3 and the benchmark is 0.7574431486426462\n",
      "The Beta of EEEE3 and the benchmark is 0.6815684697414911\n",
      "The Beta of FFFF3 and the benchmark is 0.8739427863290586\n",
      "The Beta of GGGG3 and the benchmark is 0.8958393493095255\n",
      "The Beta of ZZZZ3 and the benchmark is 0.8742872534995356\n",
      "The Beta of YYYY3 and the benchmark is 0.9481145065995564\n",
      "The Beta of WWWW3 and the benchmark is 0.9742079727274086\n",
      "The Beta of HHHH3 and the benchmark is 0.1475313351205279\n",
      "Duration: 0:00:00.010941\n"
     ]
    }
   ],
   "source": [
    "start_time = datetime.now()\n",
    "\n",
    "for i in df.columns[:11]:\n",
    "    tt = beta(df[\"Benchmark Mercado\"], df[i])\n",
    "    print(\"The Beta of {0} and the benchmark is {1}\".format(i,tt))\n",
    "    \n",
    "end_time = datetime.now()\n",
    "print('Duration: {}'.format(end_time - start_time))"
   ]
  },
  {
   "cell_type": "markdown",
   "id": "57156b6a",
   "metadata": {},
   "source": [
    "# Question 2D"
   ]
  },
  {
   "cell_type": "markdown",
   "id": "fa1d9f68",
   "metadata": {},
   "source": [
    "The technique used in item A is more efficient than the one used in item C. In other words, the computational cost of the technique used in item A is bigger, measured by the response time calculated for each item. A more efficient algorithm is always better; less energy is used, and it is more easy to scale, combining it with other algorithms and processing large amounts of data. "
   ]
  },
  {
   "cell_type": "markdown",
   "id": "2f7ae409",
   "metadata": {},
   "source": [
    "# Question 2E"
   ]
  },
  {
   "cell_type": "code",
   "execution_count": null,
   "id": "0ade4d50",
   "metadata": {},
   "outputs": [],
   "source": []
  },
  {
   "cell_type": "code",
   "execution_count": null,
   "id": "0df558aa",
   "metadata": {},
   "outputs": [],
   "source": []
  }
 ],
 "metadata": {
  "kernelspec": {
   "display_name": "Python 3",
   "language": "python",
   "name": "python3"
  },
  "language_info": {
   "codemirror_mode": {
    "name": "ipython",
    "version": 3
   },
   "file_extension": ".py",
   "mimetype": "text/x-python",
   "name": "python",
   "nbconvert_exporter": "python",
   "pygments_lexer": "ipython3",
   "version": "3.8.8"
  }
 },
 "nbformat": 4,
 "nbformat_minor": 5
}
